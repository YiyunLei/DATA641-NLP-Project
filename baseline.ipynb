{
  "nbformat": 4,
  "nbformat_minor": 0,
  "metadata": {
    "colab": {
      "provenance": [],
      "mount_file_id": "1LAWnw_33YOtfOSRL_EwL9HkRowutxYlj",
      "authorship_tag": "ABX9TyMJVQCvvb9d6fmNy+TVAqH2",
      "include_colab_link": true
    },
    "kernelspec": {
      "name": "python3",
      "display_name": "Python 3"
    },
    "language_info": {
      "name": "python"
    }
  },
  "cells": [
    {
      "cell_type": "markdown",
      "metadata": {
        "id": "view-in-github",
        "colab_type": "text"
      },
      "source": [
        "<a href=\"https://colab.research.google.com/github/YiyunLei/NLP-Final-Project/blob/main/baseline.ipynb\" target=\"_parent\"><img src=\"https://colab.research.google.com/assets/colab-badge.svg\" alt=\"Open In Colab\"/></a>"
      ]
    },
    {
      "cell_type": "code",
      "source": [
        "# Load datasets from google drive\n",
        "from google.colab import drive\n",
        "drive.mount('/content/drive')"
      ],
      "metadata": {
        "id": "k1go-d0FLwUt",
        "colab": {
          "base_uri": "https://localhost:8080/"
        },
        "outputId": "50460c75-67f0-4515-839f-a93a989f5d69"
      },
      "execution_count": 14,
      "outputs": [
        {
          "output_type": "stream",
          "name": "stdout",
          "text": [
            "Drive already mounted at /content/drive; to attempt to forcibly remount, call drive.mount(\"/content/drive\", force_remount=True).\n"
          ]
        }
      ]
    },
    {
      "cell_type": "code",
      "execution_count": 16,
      "metadata": {
        "id": "VGeTSPLJKq5R"
      },
      "outputs": [],
      "source": [
        "import json\n",
        "import jieba\n",
        "import re\n",
        "import codecs\n",
        "import pandas as pd\n",
        "from sklearn.feature_extraction.text import CountVectorizer\n",
        "from sklearn.linear_model import LogisticRegression\n",
        "import sklearn.metrics as metrics\n",
        "import matplotlib.pyplot as plt"
      ]
    },
    {
      "cell_type": "code",
      "source": [
        "# Load cleand and simplified data\n",
        "dataset_dir = \"/content/drive/MyDrive/NLP_Final_Project\"\n",
        "def load_data():\n",
        "  json_files = [dataset_dir + \"/datasets/simplify_json/train_split.json\", dataset_dir + \"/datasets/simplify_json/valid_split.json\"]\n",
        "  data_files = []\n",
        "  for json_file in json_files:\n",
        "      with open(json_file, 'r') as f:\n",
        "          data_files.append(json.load(f))\n",
        "\n",
        "  return data_files"
      ],
      "metadata": {
        "id": "k_ilQwElLS-I"
      },
      "execution_count": 17,
      "outputs": []
    },
    {
      "cell_type": "code",
      "source": [
        "# covert big-5 ['Openness', 'Conscientiousness', 'Extraversion','Agreeableness', 'Neuroticism'] to 0:low 1:high\n",
        "def one_hot_encode_big5(input_data):\n",
        "  for i in range(len(input_data)):\n",
        "    for j in range(len(input_data[i])):\n",
        "        input_data[i][j]['big-5'] = [0 if input_data[i][j]['Openness'] == 'low' else 1,\n",
        "                                     0 if input_data[i][j]['Conscientiousness'] == 'low' else 1,\n",
        "                                     0 if input_data[i][j]['Extraversion'] == 'low' else 1,\n",
        "                                     0 if input_data[i][j]['Agreeableness'] == 'low' else 1,\n",
        "                                     0 if input_data[i][j]['Neuroticism'] == 'low' else 1]\n",
        "        del input_data[i][j]['Openness']\n",
        "        del input_data[i][j]['Conscientiousness']\n",
        "        del input_data[i][j]['Extraversion']\n",
        "        del input_data[i][j]['Agreeableness']\n",
        "        del input_data[i][j]['Neuroticism']\n",
        "    converted_data = input_data\n",
        "  return converted_data"
      ],
      "metadata": {
        "id": "KZ2grOcuNKSz"
      },
      "execution_count": 18,
      "outputs": []
    },
    {
      "cell_type": "code",
      "source": [
        "# Get (X_train y_train), (X_valid, y_valid) from converted data\n",
        "def get_X_y(converted_data):\n",
        "  X_train = []   # name, Utterance\n",
        "  y_train = []   # big-5\n",
        "  X_valid = []    # name, Utterance\n",
        "  y_valid = []    # big-5\n",
        "  speakers_train, speakers_valid = [],[]\n",
        "  for i in range(len(converted_data[0])):\n",
        "    X_train.append((converted_data[0][i]['Speaker'], converted_data[0][i]['Utterance']))\n",
        "    y_train.append(converted_data[0][i]['big-5'])\n",
        "    speakers_train.append(converted_data[0][i]['Speaker'])\n",
        "  speakers_train = list(set(speakers_train))\n",
        "  print(\"There are {} speakers in train_data\" .format(len(speakers_train)))\n",
        "\n",
        "  for i in range(len(converted_data[1])):\n",
        "    X_valid.append((converted_data[1][i]['Speaker'], converted_data[1][i]['Utterance']))\n",
        "    y_valid.append(converted_data[1][i]['big-5'])\n",
        "    speakers_valid.append(converted_data[1][i]['Speaker'])\n",
        "  speakers_valid = list(set(speakers_valid))\n",
        "  print(\"There are {} speakers in valid_data\" .format(len(speakers_valid)))\n",
        "  return X_train, y_train, X_valid, y_valid, speakers_train, speakers_valid"
      ],
      "metadata": {
        "id": "NXzDi3EbOYq4"
      },
      "execution_count": 19,
      "outputs": []
    },
    {
      "cell_type": "code",
      "source": [
        "# combine same speaker data to one data and only keep different Utterance and one speaker name\n",
        "def combine_same_speaker_data(speakers, X, y):  \n",
        "    X_combine = []\n",
        "    y_combine = []\n",
        "    for speaker in speakers:\n",
        "        X_combine.append({speaker:[]})\n",
        "        y_combine.append({speaker:[]})\n",
        "\n",
        "    for i in range(len(X)):\n",
        "        for j in range(len(X_combine)):\n",
        "            if X[i][0] in X_combine[j]:\n",
        "                X_combine[j][X[i][0]].append(X[i][1])\n",
        "                y_combine[j][X[i][0]].append(y[i])\n",
        "\n",
        "    for i in range(len(y_combine)):\n",
        "        for key in y_combine[i]:\n",
        "            y_combine[i][key] = y_combine[i][key][0]\n",
        "    return X_combine, y_combine"
      ],
      "metadata": {
        "id": "V9DTrxlDR8Lv"
      },
      "execution_count": 20,
      "outputs": []
    },
    {
      "cell_type": "code",
      "source": [
        "data_files = load_data()\n",
        "data_files[0][0]\n",
        "converted_data = one_hot_encode_big5(data_files)\n",
        "converted_data[0][0]"
      ],
      "metadata": {
        "colab": {
          "base_uri": "https://localhost:8080/"
        },
        "id": "TG3_eUcvLSqe",
        "outputId": "0ecab4e2-bc01-4beb-cf98-d7c714888b34"
      },
      "execution_count": 43,
      "outputs": [
        {
          "output_type": "execute_result",
          "data": {
            "text/plain": [
              "{'Speaker': '童文洁', 'Utterance': '真巧', 'big-5': [0, 1, 1, 0, 1]}"
            ]
          },
          "metadata": {},
          "execution_count": 43
        }
      ]
    },
    {
      "cell_type": "code",
      "source": [
        "X_train, y_train, X_valid, y_valid, speakers_train, speakers_valid = get_X_y(converted_data)"
      ],
      "metadata": {
        "colab": {
          "base_uri": "https://localhost:8080/"
        },
        "id": "giJkD7j3PVEV",
        "outputId": "cf08a7a6-70b5-4212-9e59-8b64f9d4f4ed"
      },
      "execution_count": 22,
      "outputs": [
        {
          "output_type": "stream",
          "name": "stdout",
          "text": [
            "There are 220 speakers in train_data\n",
            "There are 33 speakers in valid_data\n"
          ]
        }
      ]
    },
    {
      "cell_type": "code",
      "source": [
        "X_train_combined, y_train_combined = combine_same_speaker_data(speakers_train, X_train, y_train)\n",
        "X_valid_combined, y_valid_combined = combine_same_speaker_data(speakers_valid, X_valid, y_valid)\n",
        "X_train_combined[0]"
      ],
      "metadata": {
        "id": "2hyguSu4ShHO"
      },
      "execution_count": null,
      "outputs": []
    },
    {
      "cell_type": "code",
      "source": [
        "# Use jieba tokenizer\n",
        "def tokenize_data(speaker, X):\n",
        "  X_train_tokenized = X\n",
        "  for speaker in X_train_tokenized:\n",
        "    for key in speaker:\n",
        "      for i in range(len(speaker[key])):\n",
        "          seg_list = jieba.cut(speaker[key][i], cut_all=False)\n",
        "          speaker[key][i] = \" \".join(seg_list)\n",
        "          if i > 0:\n",
        "            speaker[key][0] = speaker[key][0] + \" \" +speaker[key][i]\n",
        "    for key in speaker:\n",
        "        for j in reversed(range(1, len(speaker[key]))):\n",
        "            # delete other key's value\n",
        "            del speaker[key][j]\n",
        "    for key in speaker:\n",
        "        # Remove non-alphanumeric characters (except underscores) and convert to lowercase\n",
        "        speaker[key][0] = re.sub(r'[^\\w\\s_]', '', speaker[key][0])\n",
        "        # Replace multiple whitespace characters with a single space\n",
        "        speaker[key][0] = re.sub(r'\\s+', ' ', speaker[key][0])\n",
        "  return X_train_tokenized"
      ],
      "metadata": {
        "id": "LLtyNeVMTSXH"
      },
      "execution_count": 28,
      "outputs": []
    },
    {
      "cell_type": "code",
      "source": [
        "X_train_tokenized = tokenize_data(speakers_train, X_train_combined)\n",
        "X_valid_tokenized = tokenize_data(speakers_valid, X_valid_combined)\n",
        "X_train_tokenized"
      ],
      "metadata": {
        "id": "shW2XMIWDvfZ"
      },
      "execution_count": null,
      "outputs": []
    },
    {
      "cell_type": "code",
      "source": [
        "# Remove speaker from X and get the value of y (O of big-5)\n",
        "def clean_X_y(X_tokenized, y):\n",
        "  X_cleaned = []\n",
        "  y_cleaned = []\n",
        "  for line in X_tokenized:\n",
        "    for speaker in line:\n",
        "          X_cleaned.append(line[speaker][0])\n",
        "  for line in y:\n",
        "    for speaker in line:\n",
        "      # Change i in (line[speaker][i]) to get different y in OCEAN: {0:O, 1:C, 2:E, 3:A, 4:N }\n",
        "      y_cleaned.append(line[speaker][2])\n",
        "            \n",
        "  return X_cleaned, y_cleaned"
      ],
      "metadata": {
        "id": "_bGVeBY_Wj_l"
      },
      "execution_count": 102,
      "outputs": []
    },
    {
      "cell_type": "code",
      "source": [
        "X_train_cleaned, y_train_cleaned = clean_X_y(X_train_tokenized, y_train_combined)\n",
        "X_valid_cleaned, y_valid_cleaned = clean_X_y(X_valid_tokenized, y_valid_combined)\n",
        "y_train_cleaned"
      ],
      "metadata": {
        "id": "p2ZLCCBrXey9"
      },
      "execution_count": null,
      "outputs": []
    },
    {
      "cell_type": "code",
      "source": [
        "# load stopword\n",
        "def load_stopwords(stopwords_file):\n",
        "  stopwords = []\n",
        "  with codecs.open(stopwords_file, 'r', encoding='utf-8', errors='ignore') as fp:\n",
        "      stopwords = fp.read().split('\\n')\n",
        "  return stopwords"
      ],
      "metadata": {
        "id": "NkgZNTkKAHjK"
      },
      "execution_count": 104,
      "outputs": []
    },
    {
      "cell_type": "code",
      "source": [
        "stopwords_file     = dataset_dir + \"/stopwords-master/cn_stopwords.txt\"\n",
        "stop_words = load_stopwords(stopwords_file)\n",
        "stop_words"
      ],
      "metadata": {
        "id": "qd-PE_RkA4rj"
      },
      "execution_count": null,
      "outputs": []
    },
    {
      "cell_type": "code",
      "source": [
        "vectorizer = CountVectorizer(stop_words=stop_words)\n",
        "X_features_train = vectorizer.fit_transform(X_train_cleaned)"
      ],
      "metadata": {
        "id": "AzNiIF_ZBsF4",
        "colab": {
          "base_uri": "https://localhost:8080/"
        },
        "outputId": "8cd4ce5e-1b22-4f6b-c6b6-203e9375053c"
      },
      "execution_count": 106,
      "outputs": [
        {
          "output_type": "stream",
          "name": "stderr",
          "text": [
            "/usr/local/lib/python3.9/dist-packages/sklearn/feature_extraction/text.py:409: UserWarning: Your stop_words may be inconsistent with your preprocessing. Tokenizing the stop words generated tokens ['若果'] not in stop_words.\n",
            "  warnings.warn(\n"
          ]
        }
      ]
    },
    {
      "cell_type": "code",
      "source": [
        "lr_classifier = LogisticRegression(solver='liblinear')\n",
        "lr_classifier.fit(X_features_train, y_train_cleaned)"
      ],
      "metadata": {
        "colab": {
          "base_uri": "https://localhost:8080/",
          "height": 75
        },
        "id": "QwU8NAlRd8PW",
        "outputId": "605f95a5-d54b-475e-f5a3-8cfae47809df"
      },
      "execution_count": 107,
      "outputs": [
        {
          "output_type": "execute_result",
          "data": {
            "text/plain": [
              "LogisticRegression(solver='liblinear')"
            ],
            "text/html": [
              "<style>#sk-container-id-7 {color: black;background-color: white;}#sk-container-id-7 pre{padding: 0;}#sk-container-id-7 div.sk-toggleable {background-color: white;}#sk-container-id-7 label.sk-toggleable__label {cursor: pointer;display: block;width: 100%;margin-bottom: 0;padding: 0.3em;box-sizing: border-box;text-align: center;}#sk-container-id-7 label.sk-toggleable__label-arrow:before {content: \"▸\";float: left;margin-right: 0.25em;color: #696969;}#sk-container-id-7 label.sk-toggleable__label-arrow:hover:before {color: black;}#sk-container-id-7 div.sk-estimator:hover label.sk-toggleable__label-arrow:before {color: black;}#sk-container-id-7 div.sk-toggleable__content {max-height: 0;max-width: 0;overflow: hidden;text-align: left;background-color: #f0f8ff;}#sk-container-id-7 div.sk-toggleable__content pre {margin: 0.2em;color: black;border-radius: 0.25em;background-color: #f0f8ff;}#sk-container-id-7 input.sk-toggleable__control:checked~div.sk-toggleable__content {max-height: 200px;max-width: 100%;overflow: auto;}#sk-container-id-7 input.sk-toggleable__control:checked~label.sk-toggleable__label-arrow:before {content: \"▾\";}#sk-container-id-7 div.sk-estimator input.sk-toggleable__control:checked~label.sk-toggleable__label {background-color: #d4ebff;}#sk-container-id-7 div.sk-label input.sk-toggleable__control:checked~label.sk-toggleable__label {background-color: #d4ebff;}#sk-container-id-7 input.sk-hidden--visually {border: 0;clip: rect(1px 1px 1px 1px);clip: rect(1px, 1px, 1px, 1px);height: 1px;margin: -1px;overflow: hidden;padding: 0;position: absolute;width: 1px;}#sk-container-id-7 div.sk-estimator {font-family: monospace;background-color: #f0f8ff;border: 1px dotted black;border-radius: 0.25em;box-sizing: border-box;margin-bottom: 0.5em;}#sk-container-id-7 div.sk-estimator:hover {background-color: #d4ebff;}#sk-container-id-7 div.sk-parallel-item::after {content: \"\";width: 100%;border-bottom: 1px solid gray;flex-grow: 1;}#sk-container-id-7 div.sk-label:hover label.sk-toggleable__label {background-color: #d4ebff;}#sk-container-id-7 div.sk-serial::before {content: \"\";position: absolute;border-left: 1px solid gray;box-sizing: border-box;top: 0;bottom: 0;left: 50%;z-index: 0;}#sk-container-id-7 div.sk-serial {display: flex;flex-direction: column;align-items: center;background-color: white;padding-right: 0.2em;padding-left: 0.2em;position: relative;}#sk-container-id-7 div.sk-item {position: relative;z-index: 1;}#sk-container-id-7 div.sk-parallel {display: flex;align-items: stretch;justify-content: center;background-color: white;position: relative;}#sk-container-id-7 div.sk-item::before, #sk-container-id-7 div.sk-parallel-item::before {content: \"\";position: absolute;border-left: 1px solid gray;box-sizing: border-box;top: 0;bottom: 0;left: 50%;z-index: -1;}#sk-container-id-7 div.sk-parallel-item {display: flex;flex-direction: column;z-index: 1;position: relative;background-color: white;}#sk-container-id-7 div.sk-parallel-item:first-child::after {align-self: flex-end;width: 50%;}#sk-container-id-7 div.sk-parallel-item:last-child::after {align-self: flex-start;width: 50%;}#sk-container-id-7 div.sk-parallel-item:only-child::after {width: 0;}#sk-container-id-7 div.sk-dashed-wrapped {border: 1px dashed gray;margin: 0 0.4em 0.5em 0.4em;box-sizing: border-box;padding-bottom: 0.4em;background-color: white;}#sk-container-id-7 div.sk-label label {font-family: monospace;font-weight: bold;display: inline-block;line-height: 1.2em;}#sk-container-id-7 div.sk-label-container {text-align: center;}#sk-container-id-7 div.sk-container {/* jupyter's `normalize.less` sets `[hidden] { display: none; }` but bootstrap.min.css set `[hidden] { display: none !important; }` so we also need the `!important` here to be able to override the default hidden behavior on the sphinx rendered scikit-learn.org. See: https://github.com/scikit-learn/scikit-learn/issues/21755 */display: inline-block !important;position: relative;}#sk-container-id-7 div.sk-text-repr-fallback {display: none;}</style><div id=\"sk-container-id-7\" class=\"sk-top-container\"><div class=\"sk-text-repr-fallback\"><pre>LogisticRegression(solver=&#x27;liblinear&#x27;)</pre><b>In a Jupyter environment, please rerun this cell to show the HTML representation or trust the notebook. <br />On GitHub, the HTML representation is unable to render, please try loading this page with nbviewer.org.</b></div><div class=\"sk-container\" hidden><div class=\"sk-item\"><div class=\"sk-estimator sk-toggleable\"><input class=\"sk-toggleable__control sk-hidden--visually\" id=\"sk-estimator-id-7\" type=\"checkbox\" checked><label for=\"sk-estimator-id-7\" class=\"sk-toggleable__label sk-toggleable__label-arrow\">LogisticRegression</label><div class=\"sk-toggleable__content\"><pre>LogisticRegression(solver=&#x27;liblinear&#x27;)</pre></div></div></div></div></div>"
            ]
          },
          "metadata": {},
          "execution_count": 107
        }
      ]
    },
    {
      "cell_type": "code",
      "source": [
        "words_df = pd.DataFrame(X_features_train.toarray(),\n",
        "                        columns=vectorizer.get_feature_names_out())\n",
        "words_df"
      ],
      "metadata": {
        "id": "c0Y4Dizpd-ZH"
      },
      "execution_count": null,
      "outputs": []
    },
    {
      "cell_type": "code",
      "source": [
        "def most_informative_features(vectorizer, classifier, n=20):\n",
        "    # Adapted from https://stackoverflow.com/questions/11116697/how-to-get-most-informative-features-for-scikit-learn-classifiers#11116960\n",
        "    feature_names       = vectorizer.get_feature_names_out()\n",
        "    coefs_with_features = sorted(zip(classifier.coef_[0], feature_names))\n",
        "    top                 = zip(coefs_with_features[:n], coefs_with_features[:-(n + 1):-1])\n",
        "    for (coef_1, feature_1), (coef_2, feature_2) in top:\n",
        "        print(\"\\t%.4f\\t%-15s\\t\\t%.4f\\t%-15s\" % (coef_1, feature_1, coef_2, feature_2))"
      ],
      "metadata": {
        "id": "hDYB9b16eNWS"
      },
      "execution_count": 109,
      "outputs": []
    },
    {
      "cell_type": "code",
      "source": [
        "# Show which features have the highest-value logistic regression coefficients\n",
        "print(\"Most informative features\")\n",
        "most_informative_features(vectorizer, lr_classifier, 10)"
      ],
      "metadata": {
        "colab": {
          "base_uri": "https://localhost:8080/"
        },
        "id": "WLfqjHbqeOM6",
        "outputId": "5f948223-fe99-4f43-9544-92f994b818d7"
      },
      "execution_count": 110,
      "outputs": [
        {
          "output_type": "stream",
          "name": "stdout",
          "text": [
            "Most informative features\n",
            "\t-0.3776\t应该             \t\t0.3395\t不能             \n",
            "\t-0.3192\t回家             \t\t0.3200\t不算             \n",
            "\t-0.2906\t能够             \t\t0.2799\t面试             \n",
            "\t-0.2635\t已经             \t\t0.2723\t摩托车            \n",
            "\t-0.2505\t离婚             \t\t0.2712\t记不住            \n",
            "\t-0.2448\t老家             \t\t0.2536\t知道             \n",
            "\t-0.2416\t了解             \t\t0.2489\t领导             \n",
            "\t-0.2296\t容易             \t\t0.2450\t上海             \n",
            "\t-0.2256\t希望             \t\t0.2316\t真是             \n",
            "\t-0.2238\t一趟             \t\t0.2221\t起诉             \n"
          ]
        }
      ]
    },
    {
      "cell_type": "code",
      "source": [
        "X_valid_features =  vectorizer.transform(X_valid_cleaned)"
      ],
      "metadata": {
        "id": "zZJ0PF41eOUb"
      },
      "execution_count": 111,
      "outputs": []
    },
    {
      "cell_type": "code",
      "source": [
        "print(\"Classifying test data\")\n",
        "predicted_labels = lr_classifier.predict(X_valid_features)\n",
        "print('Accuracy  = {}'.format(metrics.accuracy_score(predicted_labels,  y_valid_cleaned)))\n",
        "for label in [0, 1]:\n",
        "    print('Precision for label {} = {}'.format(label, metrics.precision_score(predicted_labels, y_valid_cleaned, pos_label=label)))\n",
        "    print('Recall    for label {} = {}'.format(label, metrics.recall_score(predicted_labels,    y_valid_cleaned, pos_label=label)))"
      ],
      "metadata": {
        "colab": {
          "base_uri": "https://localhost:8080/"
        },
        "id": "qb7XqwqDeWq2",
        "outputId": "7442cd52-71df-4970-9ef4-8172bf92471c"
      },
      "execution_count": 112,
      "outputs": [
        {
          "output_type": "stream",
          "name": "stdout",
          "text": [
            "Classifying test data\n",
            "Accuracy  = 0.7272727272727273\n",
            "Precision for label 0 = 0.2222222222222222\n",
            "Recall    for label 0 = 0.5\n",
            "Precision for label 1 = 0.9166666666666666\n",
            "Recall    for label 1 = 0.7586206896551724\n"
          ]
        }
      ]
    }
  ]
}