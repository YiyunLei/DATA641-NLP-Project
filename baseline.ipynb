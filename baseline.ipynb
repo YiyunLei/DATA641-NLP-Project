{
  "nbformat": 4,
  "nbformat_minor": 0,
  "metadata": {
    "colab": {
      "provenance": [],
      "mount_file_id": "1LAWnw_33YOtfOSRL_EwL9HkRowutxYlj",
      "authorship_tag": "ABX9TyPQ+gRDugFoIRFWbt3TUo2P",
      "include_colab_link": true
    },
    "kernelspec": {
      "name": "python3",
      "display_name": "Python 3"
    },
    "language_info": {
      "name": "python"
    }
  },
  "cells": [
    {
      "cell_type": "markdown",
      "metadata": {
        "id": "view-in-github",
        "colab_type": "text"
      },
      "source": [
        "<a href=\"https://colab.research.google.com/github/YiyunLei/NLP-Final-Project/blob/main/baseline.ipynb\" target=\"_parent\"><img src=\"https://colab.research.google.com/assets/colab-badge.svg\" alt=\"Open In Colab\"/></a>"
      ]
    },
    {
      "cell_type": "code",
      "source": [
        "# Load datasets from google drive\n",
        "from google.colab import drive\n",
        "drive.mount('/content/drive')"
      ],
      "metadata": {
        "id": "k1go-d0FLwUt",
        "colab": {
          "base_uri": "https://localhost:8080/"
        },
        "outputId": "d3560388-757f-4420-c4ad-1fdc8a436055"
      },
      "execution_count": 3,
      "outputs": [
        {
          "output_type": "stream",
          "name": "stdout",
          "text": [
            "Drive already mounted at /content/drive; to attempt to forcibly remount, call drive.mount(\"/content/drive\", force_remount=True).\n"
          ]
        }
      ]
    },
    {
      "cell_type": "code",
      "execution_count": 4,
      "metadata": {
        "id": "VGeTSPLJKq5R"
      },
      "outputs": [],
      "source": [
        "import json\n",
        "import jieba\n",
        "import re\n",
        "import codecs\n",
        "import pandas as pd\n",
        "from sklearn.feature_extraction.text import CountVectorizer\n",
        "from sklearn.linear_model import LogisticRegression\n",
        "import sklearn.metrics as metrics\n",
        "import matplotlib.pyplot as plt"
      ]
    },
    {
      "cell_type": "code",
      "source": [
        "# Load cleand and simplified data\n",
        "dataset_dir = \"/content/drive/MyDrive/NLP_Final_Project\"\n",
        "def load_data():\n",
        "  json_files = [dataset_dir + \"/datasets/simplify_json/train_split.json\", dataset_dir + \"/datasets/simplify_json/valid_split.json\"]\n",
        "  data_files = []\n",
        "  for json_file in json_files:\n",
        "      with open(json_file, 'r') as f:\n",
        "          data_files.append(json.load(f))\n",
        "\n",
        "  return data_files"
      ],
      "metadata": {
        "id": "k_ilQwElLS-I"
      },
      "execution_count": 5,
      "outputs": []
    },
    {
      "cell_type": "code",
      "source": [
        "# covert big-5 ['Openness', 'Conscientiousness', 'Extraversion','Agreeableness', 'Neuroticism'] to 0:low 1:high\n",
        "def one_hot_encode_big5(input_data):\n",
        "  for i in range(len(input_data)):\n",
        "    for j in range(len(input_data[i])):\n",
        "        input_data[i][j]['big-5'] = [0 if input_data[i][j]['Openness'] == 'low' else 1,\n",
        "                                     0 if input_data[i][j]['Conscientiousness'] == 'low' else 1,\n",
        "                                     0 if input_data[i][j]['Extraversion'] == 'low' else 1,\n",
        "                                     0 if input_data[i][j]['Agreeableness'] == 'low' else 1,\n",
        "                                     0 if input_data[i][j]['Neuroticism'] == 'low' else 1]\n",
        "        del input_data[i][j]['Openness']\n",
        "        del input_data[i][j]['Conscientiousness']\n",
        "        del input_data[i][j]['Extraversion']\n",
        "        del input_data[i][j]['Agreeableness']\n",
        "        del input_data[i][j]['Neuroticism']\n",
        "    converted_data = input_data\n",
        "  return converted_data"
      ],
      "metadata": {
        "id": "KZ2grOcuNKSz"
      },
      "execution_count": 6,
      "outputs": []
    },
    {
      "cell_type": "code",
      "source": [
        "# Get (X_train y_train), (X_valid, y_valid) from converted data\n",
        "def get_X_y(converted_data):\n",
        "  X_train = []   # name, Utterance\n",
        "  y_train = []   # big-5\n",
        "  X_valid = []    # name, Utterance\n",
        "  y_valid = []    # big-5\n",
        "  speakers_train, speakers_valid = [],[]\n",
        "  for i in range(len(converted_data[0])):\n",
        "    X_train.append((converted_data[0][i]['Speaker'], converted_data[0][i]['Utterance']))\n",
        "    y_train.append(converted_data[0][i]['big-5'])\n",
        "    speakers_train.append(converted_data[0][i]['Speaker'])\n",
        "  speakers_train = list(set(speakers_train))\n",
        "  print(\"There are {} speakers in train_data\" .format(len(speakers_train)))\n",
        "\n",
        "  for i in range(len(converted_data[1])):\n",
        "    X_valid.append((converted_data[1][i]['Speaker'], converted_data[1][i]['Utterance']))\n",
        "    y_valid.append(converted_data[1][i]['big-5'])\n",
        "    speakers_valid.append(converted_data[1][i]['Speaker'])\n",
        "  speakers_valid = list(set(speakers_valid))\n",
        "  print(\"There are {} speakers in valid_data\" .format(len(speakers_valid)))\n",
        "  return X_train, y_train, X_valid, y_valid, speakers_train, speakers_valid"
      ],
      "metadata": {
        "id": "NXzDi3EbOYq4"
      },
      "execution_count": 7,
      "outputs": []
    },
    {
      "cell_type": "code",
      "source": [
        "# combine same speaker data to one data\n",
        "def combine_same_speaker_data(speakers, X, y):\n",
        "    # combine same speaker data to one data and only keep different Utterance and one speaker name\n",
        "    X_combine = []\n",
        "    y_combine = []\n",
        "    for speaker in speakers:\n",
        "        X_combine.append({speaker:[]})\n",
        "        y_combine.append({speaker:[]})\n",
        "\n",
        "    for i in range(len(X)):\n",
        "        for j in range(len(X_combine)):\n",
        "            if X[i][0] in X_combine[j]:\n",
        "                X_combine[j][X[i][0]].append(X[i][1])\n",
        "                y_combine[j][X[i][0]].append(y[i])\n",
        "\n",
        "    for i in range(len(y_combine)):\n",
        "        for key in y_combine[i]:\n",
        "            y_combine[i][key] = y_combine[i][key][0]\n",
        "    return X_combine, y_combine"
      ],
      "metadata": {
        "id": "V9DTrxlDR8Lv"
      },
      "execution_count": 8,
      "outputs": []
    },
    {
      "cell_type": "code",
      "source": [
        "data_files = load_data()\n",
        "data_files[0][0]\n",
        "converted_data = one_hot_encode_big5(data_files)\n",
        "converted_data[0][0]"
      ],
      "metadata": {
        "colab": {
          "base_uri": "https://localhost:8080/"
        },
        "id": "TG3_eUcvLSqe",
        "outputId": "083e6718-be9e-42f4-a63d-186b68027f76"
      },
      "execution_count": 9,
      "outputs": [
        {
          "output_type": "execute_result",
          "data": {
            "text/plain": [
              "{'Speaker': '童文洁', 'Utterance': '真巧', 'big-5': [0, 1, 1, 0, 1]}"
            ]
          },
          "metadata": {},
          "execution_count": 9
        }
      ]
    },
    {
      "cell_type": "code",
      "source": [
        "X_train, y_train, X_valid, y_valid, speakers_train, speakers_valid = get_X_y(converted_data)"
      ],
      "metadata": {
        "colab": {
          "base_uri": "https://localhost:8080/"
        },
        "id": "giJkD7j3PVEV",
        "outputId": "c7bc6e85-a914-46c2-8fba-0c91abd75a09"
      },
      "execution_count": 10,
      "outputs": [
        {
          "output_type": "stream",
          "name": "stdout",
          "text": [
            "There are 220 speakers in train_data\n",
            "There are 33 speakers in valid_data\n"
          ]
        }
      ]
    },
    {
      "cell_type": "code",
      "source": [
        "speakers_valid"
      ],
      "metadata": {
        "id": "U7-9NVekSH9O"
      },
      "execution_count": null,
      "outputs": []
    },
    {
      "cell_type": "code",
      "source": [
        "X_valid"
      ],
      "metadata": {
        "id": "ncuqI_2PSMfS"
      },
      "execution_count": null,
      "outputs": []
    },
    {
      "cell_type": "code",
      "source": [
        "X_train_combined, y_train_combined = combine_same_speaker_data(speakers_train, X_train, y_train)\n",
        "X_valid_combined, y_valid_combined = combine_same_speaker_data(speakers_valid, X_valid, y_valid)\n",
        "X_train_combined[0]"
      ],
      "metadata": {
        "id": "2hyguSu4ShHO"
      },
      "execution_count": null,
      "outputs": []
    },
    {
      "cell_type": "code",
      "source": [
        "y_valid_combined[0]"
      ],
      "metadata": {
        "colab": {
          "base_uri": "https://localhost:8080/"
        },
        "id": "qKmdkx9fSwe3",
        "outputId": "5de93a14-2237-43ae-ea6a-43d589f55742"
      },
      "execution_count": null,
      "outputs": [
        {
          "output_type": "execute_result",
          "data": {
            "text/plain": [
              "{'叶珊': [0, 1, 0, 0, 1]}"
            ]
          },
          "metadata": {},
          "execution_count": 42
        }
      ]
    },
    {
      "cell_type": "code",
      "source": [
        "# Use jieba tokenizer\n",
        "def tokenize_data(speaker, X):\n",
        "  X_train_tokenized = X\n",
        "  for speaker in X_train_tokenized:\n",
        "    for key in speaker:\n",
        "      for i in range(len(speaker[key])):\n",
        "          seg_list = jieba.cut(speaker[key][i], cut_all=False)\n",
        "          speaker[key][i] = \" \".join(seg_list)\n",
        "          if i > 0:\n",
        "            speaker[key][0] = speaker[key][0] + \" \" +speaker[key][i]\n",
        "    for key in speaker:\n",
        "        for j in reversed(range(1, len(speaker[key]))):\n",
        "            # delete other key's value\n",
        "            del speaker[key][j]\n",
        "    for key in speaker:\n",
        "        # Remove non-alphanumeric characters (except underscores) and convert to lowercase\n",
        "        speaker[key][0] = re.sub(r'[^\\w\\s_]', '', speaker[key][0])\n",
        "        # Replace multiple whitespace characters with a single space\n",
        "        speaker[key][0] = re.sub(r'\\s+', ' ', speaker[key][0])\n",
        "  return X_train_tokenized"
      ],
      "metadata": {
        "id": "LLtyNeVMTSXH"
      },
      "execution_count": 13,
      "outputs": []
    },
    {
      "cell_type": "code",
      "source": [
        "X_train_tokenized = tokenize_data(speakers_train, X_train_combined)\n",
        "X_valid_tokenized = tokenize_data(speakers_valid, X_valid_combined)\n",
        "X_train_tokenized"
      ],
      "metadata": {
        "id": "F5hXWiPLS60E"
      },
      "execution_count": null,
      "outputs": []
    },
    {
      "cell_type": "code",
      "source": [
        "print(type(X_train_tokenized))"
      ],
      "metadata": {
        "colab": {
          "base_uri": "https://localhost:8080/"
        },
        "id": "db7rPxduDbYK",
        "outputId": "ccce881b-a63d-4297-bca9-329772834014"
      },
      "execution_count": null,
      "outputs": [
        {
          "output_type": "stream",
          "name": "stdout",
          "text": [
            "<class 'list'>\n"
          ]
        }
      ]
    },
    {
      "cell_type": "code",
      "source": [
        "# Remove speaker from X and get the value of y(O of big-5)\n",
        "def clean_X_y(X_tokenized, y):\n",
        "  X_cleaned = []\n",
        "  y_cleaned = []\n",
        "  for line in X_tokenized:\n",
        "    for speaker in line:\n",
        "          X_cleaned.append(line[speaker][0])\n",
        "  for line in y:\n",
        "    for speaker in line:\n",
        "          y_cleaned.append(line[speaker][0])\n",
        "            \n",
        "  return X_cleaned, y_cleaned"
      ],
      "metadata": {
        "id": "_bGVeBY_Wj_l"
      },
      "execution_count": 15,
      "outputs": []
    },
    {
      "cell_type": "code",
      "source": [
        "X_train_cleaned, y_train_cleaned = clean_X_y(X_train_tokenized, y_train_combined)\n",
        "X_valid_cleaned, y_valid_cleaned = clean_X_y(X_valid_tokenized, y_valid_combined)\n",
        "y_train_cleaned"
      ],
      "metadata": {
        "id": "p2ZLCCBrXey9"
      },
      "execution_count": null,
      "outputs": []
    },
    {
      "cell_type": "code",
      "source": [
        "# load stopword\n",
        "def load_stopwords(stopwords_file):\n",
        "  stopwords = []\n",
        "  with codecs.open(stopwords_file, 'r', encoding='utf-8', errors='ignore') as fp:\n",
        "      stopwords = fp.read().split('\\n')\n",
        "  return stopwords"
      ],
      "metadata": {
        "id": "NkgZNTkKAHjK"
      },
      "execution_count": 18,
      "outputs": []
    },
    {
      "cell_type": "code",
      "source": [
        "stopwords_file     = dataset_dir + \"/stopwords-master/cn_stopwords.txt\"\n",
        "stop_words = load_stopwords(stopwords_file)\n",
        "stop_words"
      ],
      "metadata": {
        "id": "qd-PE_RkA4rj"
      },
      "execution_count": null,
      "outputs": []
    },
    {
      "cell_type": "code",
      "source": [
        "vectorizer = CountVectorizer(stop_words=stop_words)\n",
        "X_features_train = vectorizer.fit_transform(X_train_cleaned)"
      ],
      "metadata": {
        "id": "AzNiIF_ZBsF4",
        "colab": {
          "base_uri": "https://localhost:8080/"
        },
        "outputId": "42a01830-65ad-4ae7-ebd7-bfbe4b105931"
      },
      "execution_count": 20,
      "outputs": [
        {
          "output_type": "stream",
          "name": "stderr",
          "text": [
            "/usr/local/lib/python3.9/dist-packages/sklearn/feature_extraction/text.py:409: UserWarning: Your stop_words may be inconsistent with your preprocessing. Tokenizing the stop words generated tokens ['若果'] not in stop_words.\n",
            "  warnings.warn(\n"
          ]
        }
      ]
    },
    {
      "cell_type": "code",
      "source": [
        "lr_classifier = LogisticRegression(solver='liblinear')\n",
        "lr_classifier.fit(X_features_train, y_train_cleaned)"
      ],
      "metadata": {
        "colab": {
          "base_uri": "https://localhost:8080/",
          "height": 75
        },
        "id": "QwU8NAlRd8PW",
        "outputId": "96ef0f22-e10b-4dc3-bbdc-21593f495a22"
      },
      "execution_count": 21,
      "outputs": [
        {
          "output_type": "execute_result",
          "data": {
            "text/plain": [
              "LogisticRegression(solver='liblinear')"
            ],
            "text/html": [
              "<style>#sk-container-id-1 {color: black;background-color: white;}#sk-container-id-1 pre{padding: 0;}#sk-container-id-1 div.sk-toggleable {background-color: white;}#sk-container-id-1 label.sk-toggleable__label {cursor: pointer;display: block;width: 100%;margin-bottom: 0;padding: 0.3em;box-sizing: border-box;text-align: center;}#sk-container-id-1 label.sk-toggleable__label-arrow:before {content: \"▸\";float: left;margin-right: 0.25em;color: #696969;}#sk-container-id-1 label.sk-toggleable__label-arrow:hover:before {color: black;}#sk-container-id-1 div.sk-estimator:hover label.sk-toggleable__label-arrow:before {color: black;}#sk-container-id-1 div.sk-toggleable__content {max-height: 0;max-width: 0;overflow: hidden;text-align: left;background-color: #f0f8ff;}#sk-container-id-1 div.sk-toggleable__content pre {margin: 0.2em;color: black;border-radius: 0.25em;background-color: #f0f8ff;}#sk-container-id-1 input.sk-toggleable__control:checked~div.sk-toggleable__content {max-height: 200px;max-width: 100%;overflow: auto;}#sk-container-id-1 input.sk-toggleable__control:checked~label.sk-toggleable__label-arrow:before {content: \"▾\";}#sk-container-id-1 div.sk-estimator input.sk-toggleable__control:checked~label.sk-toggleable__label {background-color: #d4ebff;}#sk-container-id-1 div.sk-label input.sk-toggleable__control:checked~label.sk-toggleable__label {background-color: #d4ebff;}#sk-container-id-1 input.sk-hidden--visually {border: 0;clip: rect(1px 1px 1px 1px);clip: rect(1px, 1px, 1px, 1px);height: 1px;margin: -1px;overflow: hidden;padding: 0;position: absolute;width: 1px;}#sk-container-id-1 div.sk-estimator {font-family: monospace;background-color: #f0f8ff;border: 1px dotted black;border-radius: 0.25em;box-sizing: border-box;margin-bottom: 0.5em;}#sk-container-id-1 div.sk-estimator:hover {background-color: #d4ebff;}#sk-container-id-1 div.sk-parallel-item::after {content: \"\";width: 100%;border-bottom: 1px solid gray;flex-grow: 1;}#sk-container-id-1 div.sk-label:hover label.sk-toggleable__label {background-color: #d4ebff;}#sk-container-id-1 div.sk-serial::before {content: \"\";position: absolute;border-left: 1px solid gray;box-sizing: border-box;top: 0;bottom: 0;left: 50%;z-index: 0;}#sk-container-id-1 div.sk-serial {display: flex;flex-direction: column;align-items: center;background-color: white;padding-right: 0.2em;padding-left: 0.2em;position: relative;}#sk-container-id-1 div.sk-item {position: relative;z-index: 1;}#sk-container-id-1 div.sk-parallel {display: flex;align-items: stretch;justify-content: center;background-color: white;position: relative;}#sk-container-id-1 div.sk-item::before, #sk-container-id-1 div.sk-parallel-item::before {content: \"\";position: absolute;border-left: 1px solid gray;box-sizing: border-box;top: 0;bottom: 0;left: 50%;z-index: -1;}#sk-container-id-1 div.sk-parallel-item {display: flex;flex-direction: column;z-index: 1;position: relative;background-color: white;}#sk-container-id-1 div.sk-parallel-item:first-child::after {align-self: flex-end;width: 50%;}#sk-container-id-1 div.sk-parallel-item:last-child::after {align-self: flex-start;width: 50%;}#sk-container-id-1 div.sk-parallel-item:only-child::after {width: 0;}#sk-container-id-1 div.sk-dashed-wrapped {border: 1px dashed gray;margin: 0 0.4em 0.5em 0.4em;box-sizing: border-box;padding-bottom: 0.4em;background-color: white;}#sk-container-id-1 div.sk-label label {font-family: monospace;font-weight: bold;display: inline-block;line-height: 1.2em;}#sk-container-id-1 div.sk-label-container {text-align: center;}#sk-container-id-1 div.sk-container {/* jupyter's `normalize.less` sets `[hidden] { display: none; }` but bootstrap.min.css set `[hidden] { display: none !important; }` so we also need the `!important` here to be able to override the default hidden behavior on the sphinx rendered scikit-learn.org. See: https://github.com/scikit-learn/scikit-learn/issues/21755 */display: inline-block !important;position: relative;}#sk-container-id-1 div.sk-text-repr-fallback {display: none;}</style><div id=\"sk-container-id-1\" class=\"sk-top-container\"><div class=\"sk-text-repr-fallback\"><pre>LogisticRegression(solver=&#x27;liblinear&#x27;)</pre><b>In a Jupyter environment, please rerun this cell to show the HTML representation or trust the notebook. <br />On GitHub, the HTML representation is unable to render, please try loading this page with nbviewer.org.</b></div><div class=\"sk-container\" hidden><div class=\"sk-item\"><div class=\"sk-estimator sk-toggleable\"><input class=\"sk-toggleable__control sk-hidden--visually\" id=\"sk-estimator-id-1\" type=\"checkbox\" checked><label for=\"sk-estimator-id-1\" class=\"sk-toggleable__label sk-toggleable__label-arrow\">LogisticRegression</label><div class=\"sk-toggleable__content\"><pre>LogisticRegression(solver=&#x27;liblinear&#x27;)</pre></div></div></div></div></div>"
            ]
          },
          "metadata": {},
          "execution_count": 21
        }
      ]
    },
    {
      "cell_type": "code",
      "source": [
        "words_df = pd.DataFrame(X_features_train.toarray(),\n",
        "                        columns=vectorizer.get_feature_names_out())\n",
        "words_df"
      ],
      "metadata": {
        "colab": {
          "base_uri": "https://localhost:8080/",
          "height": 424
        },
        "id": "c0Y4Dizpd-ZH",
        "outputId": "0e73da96-f15e-4ea3-af36-01258811b42a"
      },
      "execution_count": 24,
      "outputs": [
        {
          "output_type": "execute_result",
          "data": {
            "text/plain": [
              "     00  001  007  04  05  06  07  08  09  10  ...  龙井  龙凤胎  龙柯来  龙潭虎穴  龙王庙  \\\n",
              "0     0    0    0   0   0   0   0   0   0   2  ...   0    0    0     0    0   \n",
              "1     0    0    0   0   0   0   0   1   0   0  ...   0    0    0     0    0   \n",
              "2     0    0    0   0   0   0   0   0   0   1  ...   0    0    0     0    0   \n",
              "3     0    0    0   0   0   0   0   0   0   0  ...   0    0    0     0    0   \n",
              "4     0    0    0   0   0   0   0   0   0   4  ...   0    0    0     0    0   \n",
              "..   ..  ...  ...  ..  ..  ..  ..  ..  ..  ..  ...  ..  ...  ...   ...  ...   \n",
              "215   0    0    0   0   0   0   0   0   0   0  ...   0    0    0     0    0   \n",
              "216   0    0    0   0   0   0   0   0   0   0  ...   0    0    0     0    0   \n",
              "217   0    0    0   0   0   0   0   0   0   0  ...   0    0    0     0    0   \n",
              "218   0    0    0   0   0   0   0   0   0   0  ...   0    0    0     0    0   \n",
              "219   0    0    0   0   0   0   0   0   0   0  ...   0    0    0     0    0   \n",
              "\n",
              "     龙舌兰  龙虾  龙门  龙颜大悦  龟派  \n",
              "0      0   0   0     0   0  \n",
              "1      0   0   0     0   0  \n",
              "2      0   0   0     0   0  \n",
              "3      0   0   0     0   0  \n",
              "4      0   0   0     0   0  \n",
              "..   ...  ..  ..   ...  ..  \n",
              "215    0   0   0     0   0  \n",
              "216    0   0   0     0   0  \n",
              "217    0   0   0     0   0  \n",
              "218    0   0   0     0   0  \n",
              "219    0   0   0     0   0  \n",
              "\n",
              "[220 rows x 26046 columns]"
            ],
            "text/html": [
              "\n",
              "  <div id=\"df-89da9327-dba5-4b73-8ca8-dbfcd9e38db7\">\n",
              "    <div class=\"colab-df-container\">\n",
              "      <div>\n",
              "<style scoped>\n",
              "    .dataframe tbody tr th:only-of-type {\n",
              "        vertical-align: middle;\n",
              "    }\n",
              "\n",
              "    .dataframe tbody tr th {\n",
              "        vertical-align: top;\n",
              "    }\n",
              "\n",
              "    .dataframe thead th {\n",
              "        text-align: right;\n",
              "    }\n",
              "</style>\n",
              "<table border=\"1\" class=\"dataframe\">\n",
              "  <thead>\n",
              "    <tr style=\"text-align: right;\">\n",
              "      <th></th>\n",
              "      <th>00</th>\n",
              "      <th>001</th>\n",
              "      <th>007</th>\n",
              "      <th>04</th>\n",
              "      <th>05</th>\n",
              "      <th>06</th>\n",
              "      <th>07</th>\n",
              "      <th>08</th>\n",
              "      <th>09</th>\n",
              "      <th>10</th>\n",
              "      <th>...</th>\n",
              "      <th>龙井</th>\n",
              "      <th>龙凤胎</th>\n",
              "      <th>龙柯来</th>\n",
              "      <th>龙潭虎穴</th>\n",
              "      <th>龙王庙</th>\n",
              "      <th>龙舌兰</th>\n",
              "      <th>龙虾</th>\n",
              "      <th>龙门</th>\n",
              "      <th>龙颜大悦</th>\n",
              "      <th>龟派</th>\n",
              "    </tr>\n",
              "  </thead>\n",
              "  <tbody>\n",
              "    <tr>\n",
              "      <th>0</th>\n",
              "      <td>0</td>\n",
              "      <td>0</td>\n",
              "      <td>0</td>\n",
              "      <td>0</td>\n",
              "      <td>0</td>\n",
              "      <td>0</td>\n",
              "      <td>0</td>\n",
              "      <td>0</td>\n",
              "      <td>0</td>\n",
              "      <td>2</td>\n",
              "      <td>...</td>\n",
              "      <td>0</td>\n",
              "      <td>0</td>\n",
              "      <td>0</td>\n",
              "      <td>0</td>\n",
              "      <td>0</td>\n",
              "      <td>0</td>\n",
              "      <td>0</td>\n",
              "      <td>0</td>\n",
              "      <td>0</td>\n",
              "      <td>0</td>\n",
              "    </tr>\n",
              "    <tr>\n",
              "      <th>1</th>\n",
              "      <td>0</td>\n",
              "      <td>0</td>\n",
              "      <td>0</td>\n",
              "      <td>0</td>\n",
              "      <td>0</td>\n",
              "      <td>0</td>\n",
              "      <td>0</td>\n",
              "      <td>1</td>\n",
              "      <td>0</td>\n",
              "      <td>0</td>\n",
              "      <td>...</td>\n",
              "      <td>0</td>\n",
              "      <td>0</td>\n",
              "      <td>0</td>\n",
              "      <td>0</td>\n",
              "      <td>0</td>\n",
              "      <td>0</td>\n",
              "      <td>0</td>\n",
              "      <td>0</td>\n",
              "      <td>0</td>\n",
              "      <td>0</td>\n",
              "    </tr>\n",
              "    <tr>\n",
              "      <th>2</th>\n",
              "      <td>0</td>\n",
              "      <td>0</td>\n",
              "      <td>0</td>\n",
              "      <td>0</td>\n",
              "      <td>0</td>\n",
              "      <td>0</td>\n",
              "      <td>0</td>\n",
              "      <td>0</td>\n",
              "      <td>0</td>\n",
              "      <td>1</td>\n",
              "      <td>...</td>\n",
              "      <td>0</td>\n",
              "      <td>0</td>\n",
              "      <td>0</td>\n",
              "      <td>0</td>\n",
              "      <td>0</td>\n",
              "      <td>0</td>\n",
              "      <td>0</td>\n",
              "      <td>0</td>\n",
              "      <td>0</td>\n",
              "      <td>0</td>\n",
              "    </tr>\n",
              "    <tr>\n",
              "      <th>3</th>\n",
              "      <td>0</td>\n",
              "      <td>0</td>\n",
              "      <td>0</td>\n",
              "      <td>0</td>\n",
              "      <td>0</td>\n",
              "      <td>0</td>\n",
              "      <td>0</td>\n",
              "      <td>0</td>\n",
              "      <td>0</td>\n",
              "      <td>0</td>\n",
              "      <td>...</td>\n",
              "      <td>0</td>\n",
              "      <td>0</td>\n",
              "      <td>0</td>\n",
              "      <td>0</td>\n",
              "      <td>0</td>\n",
              "      <td>0</td>\n",
              "      <td>0</td>\n",
              "      <td>0</td>\n",
              "      <td>0</td>\n",
              "      <td>0</td>\n",
              "    </tr>\n",
              "    <tr>\n",
              "      <th>4</th>\n",
              "      <td>0</td>\n",
              "      <td>0</td>\n",
              "      <td>0</td>\n",
              "      <td>0</td>\n",
              "      <td>0</td>\n",
              "      <td>0</td>\n",
              "      <td>0</td>\n",
              "      <td>0</td>\n",
              "      <td>0</td>\n",
              "      <td>4</td>\n",
              "      <td>...</td>\n",
              "      <td>0</td>\n",
              "      <td>0</td>\n",
              "      <td>0</td>\n",
              "      <td>0</td>\n",
              "      <td>0</td>\n",
              "      <td>0</td>\n",
              "      <td>0</td>\n",
              "      <td>0</td>\n",
              "      <td>0</td>\n",
              "      <td>0</td>\n",
              "    </tr>\n",
              "    <tr>\n",
              "      <th>...</th>\n",
              "      <td>...</td>\n",
              "      <td>...</td>\n",
              "      <td>...</td>\n",
              "      <td>...</td>\n",
              "      <td>...</td>\n",
              "      <td>...</td>\n",
              "      <td>...</td>\n",
              "      <td>...</td>\n",
              "      <td>...</td>\n",
              "      <td>...</td>\n",
              "      <td>...</td>\n",
              "      <td>...</td>\n",
              "      <td>...</td>\n",
              "      <td>...</td>\n",
              "      <td>...</td>\n",
              "      <td>...</td>\n",
              "      <td>...</td>\n",
              "      <td>...</td>\n",
              "      <td>...</td>\n",
              "      <td>...</td>\n",
              "      <td>...</td>\n",
              "    </tr>\n",
              "    <tr>\n",
              "      <th>215</th>\n",
              "      <td>0</td>\n",
              "      <td>0</td>\n",
              "      <td>0</td>\n",
              "      <td>0</td>\n",
              "      <td>0</td>\n",
              "      <td>0</td>\n",
              "      <td>0</td>\n",
              "      <td>0</td>\n",
              "      <td>0</td>\n",
              "      <td>0</td>\n",
              "      <td>...</td>\n",
              "      <td>0</td>\n",
              "      <td>0</td>\n",
              "      <td>0</td>\n",
              "      <td>0</td>\n",
              "      <td>0</td>\n",
              "      <td>0</td>\n",
              "      <td>0</td>\n",
              "      <td>0</td>\n",
              "      <td>0</td>\n",
              "      <td>0</td>\n",
              "    </tr>\n",
              "    <tr>\n",
              "      <th>216</th>\n",
              "      <td>0</td>\n",
              "      <td>0</td>\n",
              "      <td>0</td>\n",
              "      <td>0</td>\n",
              "      <td>0</td>\n",
              "      <td>0</td>\n",
              "      <td>0</td>\n",
              "      <td>0</td>\n",
              "      <td>0</td>\n",
              "      <td>0</td>\n",
              "      <td>...</td>\n",
              "      <td>0</td>\n",
              "      <td>0</td>\n",
              "      <td>0</td>\n",
              "      <td>0</td>\n",
              "      <td>0</td>\n",
              "      <td>0</td>\n",
              "      <td>0</td>\n",
              "      <td>0</td>\n",
              "      <td>0</td>\n",
              "      <td>0</td>\n",
              "    </tr>\n",
              "    <tr>\n",
              "      <th>217</th>\n",
              "      <td>0</td>\n",
              "      <td>0</td>\n",
              "      <td>0</td>\n",
              "      <td>0</td>\n",
              "      <td>0</td>\n",
              "      <td>0</td>\n",
              "      <td>0</td>\n",
              "      <td>0</td>\n",
              "      <td>0</td>\n",
              "      <td>0</td>\n",
              "      <td>...</td>\n",
              "      <td>0</td>\n",
              "      <td>0</td>\n",
              "      <td>0</td>\n",
              "      <td>0</td>\n",
              "      <td>0</td>\n",
              "      <td>0</td>\n",
              "      <td>0</td>\n",
              "      <td>0</td>\n",
              "      <td>0</td>\n",
              "      <td>0</td>\n",
              "    </tr>\n",
              "    <tr>\n",
              "      <th>218</th>\n",
              "      <td>0</td>\n",
              "      <td>0</td>\n",
              "      <td>0</td>\n",
              "      <td>0</td>\n",
              "      <td>0</td>\n",
              "      <td>0</td>\n",
              "      <td>0</td>\n",
              "      <td>0</td>\n",
              "      <td>0</td>\n",
              "      <td>0</td>\n",
              "      <td>...</td>\n",
              "      <td>0</td>\n",
              "      <td>0</td>\n",
              "      <td>0</td>\n",
              "      <td>0</td>\n",
              "      <td>0</td>\n",
              "      <td>0</td>\n",
              "      <td>0</td>\n",
              "      <td>0</td>\n",
              "      <td>0</td>\n",
              "      <td>0</td>\n",
              "    </tr>\n",
              "    <tr>\n",
              "      <th>219</th>\n",
              "      <td>0</td>\n",
              "      <td>0</td>\n",
              "      <td>0</td>\n",
              "      <td>0</td>\n",
              "      <td>0</td>\n",
              "      <td>0</td>\n",
              "      <td>0</td>\n",
              "      <td>0</td>\n",
              "      <td>0</td>\n",
              "      <td>0</td>\n",
              "      <td>...</td>\n",
              "      <td>0</td>\n",
              "      <td>0</td>\n",
              "      <td>0</td>\n",
              "      <td>0</td>\n",
              "      <td>0</td>\n",
              "      <td>0</td>\n",
              "      <td>0</td>\n",
              "      <td>0</td>\n",
              "      <td>0</td>\n",
              "      <td>0</td>\n",
              "    </tr>\n",
              "  </tbody>\n",
              "</table>\n",
              "<p>220 rows × 26046 columns</p>\n",
              "</div>\n",
              "      <button class=\"colab-df-convert\" onclick=\"convertToInteractive('df-89da9327-dba5-4b73-8ca8-dbfcd9e38db7')\"\n",
              "              title=\"Convert this dataframe to an interactive table.\"\n",
              "              style=\"display:none;\">\n",
              "        \n",
              "  <svg xmlns=\"http://www.w3.org/2000/svg\" height=\"24px\"viewBox=\"0 0 24 24\"\n",
              "       width=\"24px\">\n",
              "    <path d=\"M0 0h24v24H0V0z\" fill=\"none\"/>\n",
              "    <path d=\"M18.56 5.44l.94 2.06.94-2.06 2.06-.94-2.06-.94-.94-2.06-.94 2.06-2.06.94zm-11 1L8.5 8.5l.94-2.06 2.06-.94-2.06-.94L8.5 2.5l-.94 2.06-2.06.94zm10 10l.94 2.06.94-2.06 2.06-.94-2.06-.94-.94-2.06-.94 2.06-2.06.94z\"/><path d=\"M17.41 7.96l-1.37-1.37c-.4-.4-.92-.59-1.43-.59-.52 0-1.04.2-1.43.59L10.3 9.45l-7.72 7.72c-.78.78-.78 2.05 0 2.83L4 21.41c.39.39.9.59 1.41.59.51 0 1.02-.2 1.41-.59l7.78-7.78 2.81-2.81c.8-.78.8-2.07 0-2.86zM5.41 20L4 18.59l7.72-7.72 1.47 1.35L5.41 20z\"/>\n",
              "  </svg>\n",
              "      </button>\n",
              "      \n",
              "  <style>\n",
              "    .colab-df-container {\n",
              "      display:flex;\n",
              "      flex-wrap:wrap;\n",
              "      gap: 12px;\n",
              "    }\n",
              "\n",
              "    .colab-df-convert {\n",
              "      background-color: #E8F0FE;\n",
              "      border: none;\n",
              "      border-radius: 50%;\n",
              "      cursor: pointer;\n",
              "      display: none;\n",
              "      fill: #1967D2;\n",
              "      height: 32px;\n",
              "      padding: 0 0 0 0;\n",
              "      width: 32px;\n",
              "    }\n",
              "\n",
              "    .colab-df-convert:hover {\n",
              "      background-color: #E2EBFA;\n",
              "      box-shadow: 0px 1px 2px rgba(60, 64, 67, 0.3), 0px 1px 3px 1px rgba(60, 64, 67, 0.15);\n",
              "      fill: #174EA6;\n",
              "    }\n",
              "\n",
              "    [theme=dark] .colab-df-convert {\n",
              "      background-color: #3B4455;\n",
              "      fill: #D2E3FC;\n",
              "    }\n",
              "\n",
              "    [theme=dark] .colab-df-convert:hover {\n",
              "      background-color: #434B5C;\n",
              "      box-shadow: 0px 1px 3px 1px rgba(0, 0, 0, 0.15);\n",
              "      filter: drop-shadow(0px 1px 2px rgba(0, 0, 0, 0.3));\n",
              "      fill: #FFFFFF;\n",
              "    }\n",
              "  </style>\n",
              "\n",
              "      <script>\n",
              "        const buttonEl =\n",
              "          document.querySelector('#df-89da9327-dba5-4b73-8ca8-dbfcd9e38db7 button.colab-df-convert');\n",
              "        buttonEl.style.display =\n",
              "          google.colab.kernel.accessAllowed ? 'block' : 'none';\n",
              "\n",
              "        async function convertToInteractive(key) {\n",
              "          const element = document.querySelector('#df-89da9327-dba5-4b73-8ca8-dbfcd9e38db7');\n",
              "          const dataTable =\n",
              "            await google.colab.kernel.invokeFunction('convertToInteractive',\n",
              "                                                     [key], {});\n",
              "          if (!dataTable) return;\n",
              "\n",
              "          const docLinkHtml = 'Like what you see? Visit the ' +\n",
              "            '<a target=\"_blank\" href=https://colab.research.google.com/notebooks/data_table.ipynb>data table notebook</a>'\n",
              "            + ' to learn more about interactive tables.';\n",
              "          element.innerHTML = '';\n",
              "          dataTable['output_type'] = 'display_data';\n",
              "          await google.colab.output.renderOutput(dataTable, element);\n",
              "          const docLink = document.createElement('div');\n",
              "          docLink.innerHTML = docLinkHtml;\n",
              "          element.appendChild(docLink);\n",
              "        }\n",
              "      </script>\n",
              "    </div>\n",
              "  </div>\n",
              "  "
            ]
          },
          "metadata": {},
          "execution_count": 24
        }
      ]
    },
    {
      "cell_type": "code",
      "source": [
        "def most_informative_features(vectorizer, classifier, n=20):\n",
        "    # Adapted from https://stackoverflow.com/questions/11116697/how-to-get-most-informative-features-for-scikit-learn-classifiers#11116960\n",
        "    feature_names       = vectorizer.get_feature_names_out()\n",
        "    coefs_with_features = sorted(zip(classifier.coef_[0], feature_names))\n",
        "    top                 = zip(coefs_with_features[:n], coefs_with_features[:-(n + 1):-1])\n",
        "    for (coef_1, feature_1), (coef_2, feature_2) in top:\n",
        "        print(\"\\t%.4f\\t%-15s\\t\\t%.4f\\t%-15s\" % (coef_1, feature_1, coef_2, feature_2))"
      ],
      "metadata": {
        "id": "hDYB9b16eNWS"
      },
      "execution_count": 25,
      "outputs": []
    },
    {
      "cell_type": "code",
      "source": [
        "# Show which features have the highest-value logistic regression coefficients\n",
        "print(\"Most informative features\")\n",
        "most_informative_features(vectorizer, lr_classifier, 10)"
      ],
      "metadata": {
        "colab": {
          "base_uri": "https://localhost:8080/"
        },
        "id": "WLfqjHbqeOM6",
        "outputId": "4caa2a09-a6eb-415a-fb52-9a23690fed8e"
      },
      "execution_count": 26,
      "outputs": [
        {
          "output_type": "stream",
          "name": "stdout",
          "text": [
            "Most informative features\n",
            "\t-0.2808\t一起             \t\t0.2723\t问题             \n",
            "\t-0.2692\t起诉             \t\t0.2406\t尊重             \n",
            "\t-0.2672\t不了             \t\t0.2402\t每天             \n",
            "\t-0.2647\t摩托车            \t\t0.2305\t手机             \n",
            "\t-0.2607\t总裁             \t\t0.2234\t不能             \n",
            "\t-0.2558\t记不住            \t\t0.2125\t这人             \n",
            "\t-0.2528\t学生             \t\t0.1912\t真的             \n",
            "\t-0.2491\t张盛             \t\t0.1882\t看来             \n",
            "\t-0.2457\t房子             \t\t0.1877\t喜欢             \n",
            "\t-0.2252\t回去             \t\t0.1855\t开心             \n"
          ]
        }
      ]
    },
    {
      "cell_type": "code",
      "source": [
        "X_valid_features =  vectorizer.transform(X_valid_cleaned)"
      ],
      "metadata": {
        "id": "zZJ0PF41eOUb"
      },
      "execution_count": 27,
      "outputs": []
    },
    {
      "cell_type": "code",
      "source": [
        "print(\"Classifying test data\")\n",
        "predicted_labels = lr_classifier.predict(X_valid_features)\n",
        "print('Accuracy  = {}'.format(metrics.accuracy_score(predicted_labels,  y_valid_cleaned)))\n",
        "for label in [0, 1]:\n",
        "    print('Precision for label {} = {}'.format(label, metrics.precision_score(predicted_labels, y_valid_cleaned, pos_label=label)))\n",
        "    print('Recall    for label {} = {}'.format(label, metrics.recall_score(predicted_labels,    y_valid_cleaned, pos_label=label)))\n"
      ],
      "metadata": {
        "colab": {
          "base_uri": "https://localhost:8080/"
        },
        "id": "qb7XqwqDeWq2",
        "outputId": "dc8d7a64-d7cc-4a87-e2c3-16253ba37dcf"
      },
      "execution_count": 33,
      "outputs": [
        {
          "output_type": "stream",
          "name": "stdout",
          "text": [
            "Classifying test data\n",
            "Accuracy  = 0.45454545454545453\n",
            "Precision for label 0 = 0.3333333333333333\n",
            "Recall    for label 0 = 0.6363636363636364\n",
            "Precision for label 1 = 0.6666666666666666\n",
            "Recall    for label 1 = 0.36363636363636365\n"
          ]
        }
      ]
    }
  ]
}